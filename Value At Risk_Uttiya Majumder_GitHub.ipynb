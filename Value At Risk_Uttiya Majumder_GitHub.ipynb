{
 "cells": [
  {
   "cell_type": "markdown",
   "id": "d58f5831-35d0-4237-a519-63d2a2e7238f",
   "metadata": {},
   "source": [
    "##### In this project I computed the value at risk of a hypothetical portfolio consisting of the top 10 stocks of Nifty50, using all the 3 methods and then back-tested the models, and finally calculated Expected Shortfall for the Portfolio."
   ]
  },
  {
   "cell_type": "code",
   "execution_count": 1,
   "id": "aad3bb7f-349d-45ab-a133-bf458b5faed8",
   "metadata": {},
   "outputs": [],
   "source": [
    "import yfinance as yf\n",
    "import numpy as np\n",
    "import pandas as pd\n",
    "from scipy.stats import norm\n",
    "import matplotlib.pyplot as plt\n",
    "import seaborn as sns\n",
    "from matplotlib.ticker import FuncFormatter\n",
    "from scipy.stats import chi2"
   ]
  },
  {
   "cell_type": "code",
   "execution_count": 2,
   "id": "3074c6ec-988a-4073-880b-166b85d2e0bb",
   "metadata": {},
   "outputs": [],
   "source": [
    "tickers = ['RELIANCE.NS', 'HDFCBANK.NS', 'ICICIBANK.NS', 'INFY.NS', 'TCS.NS', \n",
    "           'ITC.NS', 'KOTAKBANK.NS', 'HINDUNILVR.NS', 'SBIN.NS', 'BHARTIARTL.NS']"
   ]
  },
  {
   "cell_type": "code",
   "execution_count": 3,
   "id": "805ebf31-3a54-4473-bd1b-9a4e426a86df",
   "metadata": {},
   "outputs": [],
   "source": [
    "df = yf.download(tickers, start=\"2024-03-31\", end=\"2025-04-30\")"
   ]
  },
  {
   "cell_type": "code",
   "execution_count": 6,
   "id": "2871de83-5a0a-4b1f-b1d4-9ac8193250b6",
   "metadata": {},
   "outputs": [
    {
     "data": {
      "text/html": [
       "<div>\n",
       "<style scoped>\n",
       "    .dataframe tbody tr th:only-of-type {\n",
       "        vertical-align: middle;\n",
       "    }\n",
       "\n",
       "    .dataframe tbody tr th {\n",
       "        vertical-align: top;\n",
       "    }\n",
       "\n",
       "    .dataframe thead th {\n",
       "        text-align: right;\n",
       "    }\n",
       "</style>\n",
       "<table border=\"1\" class=\"dataframe\">\n",
       "  <thead>\n",
       "    <tr style=\"text-align: right;\">\n",
       "      <th></th>\n",
       "      <th>Date</th>\n",
       "      <th>BHARTIARTL.NS</th>\n",
       "      <th>HDFCBANK.NS</th>\n",
       "      <th>HINDUNILVR.NS</th>\n",
       "      <th>ICICIBANK.NS</th>\n",
       "      <th>INFY.NS</th>\n",
       "      <th>ITC.NS</th>\n",
       "      <th>KOTAKBANK.NS</th>\n",
       "      <th>RELIANCE.NS</th>\n",
       "      <th>SBIN.NS</th>\n",
       "      <th>TCS.NS</th>\n",
       "    </tr>\n",
       "  </thead>\n",
       "  <tbody>\n",
       "    <tr>\n",
       "      <th>0</th>\n",
       "      <td>01-04-2024</td>\n",
       "      <td>1210.603516</td>\n",
       "      <td>1450.690186</td>\n",
       "      <td>2246.784668</td>\n",
       "      <td>1090.26416</td>\n",
       "      <td>1457.897339</td>\n",
       "      <td>412.748627</td>\n",
       "      <td>1788.739502</td>\n",
       "      <td>1484.775024</td>\n",
       "      <td>731.112854</td>\n",
       "      <td>3809.3125</td>\n",
       "    </tr>\n",
       "  </tbody>\n",
       "</table>\n",
       "</div>"
      ],
      "text/plain": [
       "         Date  BHARTIARTL.NS  HDFCBANK.NS  HINDUNILVR.NS  ICICIBANK.NS  \\\n",
       "0  01-04-2024    1210.603516  1450.690186    2246.784668    1090.26416   \n",
       "\n",
       "       INFY.NS      ITC.NS  KOTAKBANK.NS  RELIANCE.NS     SBIN.NS     TCS.NS  \n",
       "0  1457.897339  412.748627   1788.739502  1484.775024  731.112854  3809.3125  "
      ]
     },
     "execution_count": 6,
     "metadata": {},
     "output_type": "execute_result"
    }
   ],
   "source": [
    "df.head(1)"
   ]
  },
  {
   "cell_type": "code",
   "execution_count": 7,
   "id": "276da60f-f04b-4cd5-bb7f-d9a27c2e80e9",
   "metadata": {},
   "outputs": [
    {
     "data": {
      "text/plain": [
       "(266, 11)"
      ]
     },
     "execution_count": 7,
     "metadata": {},
     "output_type": "execute_result"
    }
   ],
   "source": [
    "df.shape"
   ]
  },
  {
   "cell_type": "markdown",
   "id": "05992db4-9c8d-4844-a49c-a54757a3101b",
   "metadata": {},
   "source": [
    "##### Calculating daily (log)returns for each stock"
   ]
  },
  {
   "cell_type": "code",
   "execution_count": 10,
   "id": "c7a8f08a-e09b-4551-b3bf-2a0045daa13c",
   "metadata": {},
   "outputs": [],
   "source": [
    "returns = np.log(df.select_dtypes(include='number') / df.select_dtypes(include='number').shift(1)).dropna()"
   ]
  },
  {
   "cell_type": "markdown",
   "id": "92900a4a-67fe-460c-a6e3-e18c45901c8a",
   "metadata": {},
   "source": [
    "##### Assigning equal weights to each stock in the portfolio"
   ]
  },
  {
   "cell_type": "code",
   "execution_count": 12,
   "id": "8cc2d501-7339-4a36-a12f-e82a0c8e881d",
   "metadata": {},
   "outputs": [
    {
     "name": "stdout",
     "output_type": "stream",
     "text": [
      "[0.1 0.1 0.1 0.1 0.1 0.1 0.1 0.1 0.1 0.1]\n",
      "(10,)\n"
     ]
    }
   ],
   "source": [
    "weights = np.array([0.10] * 10)\n",
    "print(weights)\n",
    "print(weights.shape)"
   ]
  },
  {
   "cell_type": "markdown",
   "id": "5eada7c1-e241-4b35-8558-ac9cb3ae2b82",
   "metadata": {},
   "source": [
    "##### Computing Covariance matrix"
   ]
  },
  {
   "cell_type": "code",
   "execution_count": 13,
   "id": "4c734aa8-8af9-43bf-beac-e74cc5a5df35",
   "metadata": {},
   "outputs": [
    {
     "name": "stdout",
     "output_type": "stream",
     "text": [
      "(10, 10)\n"
     ]
    }
   ],
   "source": [
    "cov_matrix = returns.cov()\n",
    "print(cov_matrix.shape)"
   ]
  },
  {
   "cell_type": "code",
   "execution_count": 14,
   "id": "086a1c94-65f4-46e0-b927-1c2b05fe744b",
   "metadata": {},
   "outputs": [
    {
     "name": "stdout",
     "output_type": "stream",
     "text": [
      "BHARTIARTL.NS    0.001546\n",
      "HDFCBANK.NS      0.001036\n",
      "HINDUNILVR.NS    0.000124\n",
      "ICICIBANK.NS     0.001023\n",
      "INFY.NS          0.000101\n",
      "ITC.NS           0.000119\n",
      "KOTAKBANK.NS     0.000789\n",
      "RELIANCE.NS     -0.000223\n",
      "SBIN.NS          0.000324\n",
      "TCS.NS          -0.000349\n",
      "dtype: float64\n"
     ]
    }
   ],
   "source": [
    "print(returns.mean())"
   ]
  },
  {
   "cell_type": "markdown",
   "id": "bb036264-d0e1-468a-b4f6-0eae9a9e724e",
   "metadata": {},
   "source": [
    "##### Calculating average portfolio return"
   ]
  },
  {
   "cell_type": "code",
   "execution_count": 15,
   "id": "76a6326f-3bb3-4ba0-9d96-688972e62160",
   "metadata": {},
   "outputs": [
    {
     "name": "stdout",
     "output_type": "stream",
     "text": [
      "0.0004490268340420072\n"
     ]
    }
   ],
   "source": [
    "port_mean = weights @ returns.mean()\n",
    "print(port_mean)"
   ]
  },
  {
   "cell_type": "markdown",
   "id": "86d60166-387b-4bc0-b77f-a5270a51d854",
   "metadata": {},
   "source": [
    "##### Calculating portfolio standard deviation"
   ]
  },
  {
   "cell_type": "code",
   "execution_count": 16,
   "id": "fe1423ad-0e14-4cc9-9fce-c2dd2619367a",
   "metadata": {},
   "outputs": [
    {
     "name": "stdout",
     "output_type": "stream",
     "text": [
      "0.00859641940180329\n"
     ]
    }
   ],
   "source": [
    "port_std = np.sqrt(np.dot(weights.T, np.dot(cov_matrix, weights)))\n",
    "print(port_std)"
   ]
  },
  {
   "cell_type": "markdown",
   "id": "c9b31698-6407-4511-910b-fb0eea77a8f7",
   "metadata": {},
   "source": [
    "#### Computing Parametric VaR"
   ]
  },
  {
   "cell_type": "code",
   "execution_count": 17,
   "id": "43908017-d4aa-4b25-b4d3-f576b9e0b2e5",
   "metadata": {},
   "outputs": [],
   "source": [
    "#Confidence levels\n",
    "z_90 = norm.ppf(0.90)\n",
    "z_95 = norm.ppf(0.95)\n",
    "z_99 = norm.ppf(0.99)"
   ]
  },
  {
   "cell_type": "code",
   "execution_count": 18,
   "id": "b50c8137-94d9-418d-afe6-3fb68b0dce87",
   "metadata": {},
   "outputs": [
    {
     "name": "stdout",
     "output_type": "stream",
     "text": [
      "With 90% confidence, the daily loss will not exceed 1.06% of the portfolio.\n",
      "With 95% confidence, the daily loss will not exceed 1.37% of the portfolio.\n",
      "With 99% confidence, the daily loss will not exceed 1.95% of the portfolio.\n"
     ]
    }
   ],
   "source": [
    "# VaR = μ - z*σ (daily VaR)\n",
    "var_90_param = port_mean - z_90*port_std\n",
    "var_95_param = port_mean - z_95*port_std\n",
    "var_99_param = port_mean - z_99*port_std\n",
    "\n",
    "print(f\"With 90% confidence, the daily loss will not exceed {round(-var_90_param*100,2)}% of the portfolio.\")\n",
    "print(f\"With 95% confidence, the daily loss will not exceed {round(-var_95_param*100,2)}% of the portfolio.\")\n",
    "print(f\"With 99% confidence, the daily loss will not exceed {round(-var_99_param*100,2)}% of the portfolio.\")"
   ]
  },
  {
   "cell_type": "markdown",
   "id": "ee209e5a-fa57-4294-ab1f-029ab7c1ace9",
   "metadata": {},
   "source": [
    "#### Computing Historical VaR"
   ]
  },
  {
   "cell_type": "code",
   "execution_count": 19,
   "id": "17f42ce3-e888-44b3-a338-ab87507ccc91",
   "metadata": {},
   "outputs": [
    {
     "name": "stdout",
     "output_type": "stream",
     "text": [
      "1     -0.004312\n",
      "2     -0.000353\n",
      "3      0.001749\n",
      "4      0.003187\n",
      "5      0.003819\n",
      "         ...   \n",
      "261    0.004843\n",
      "262   -0.008806\n",
      "263   -0.002733\n",
      "264    0.010461\n",
      "265    0.001649\n",
      "Length: 265, dtype: float64\n"
     ]
    }
   ],
   "source": [
    "#Calculating portfolio returns\n",
    "daily_port_return = returns@weights\n",
    "print(daily_port_return)"
   ]
  },
  {
   "cell_type": "code",
   "execution_count": 20,
   "id": "9e4ac624-52a6-4b54-a951-c237e8cfb796",
   "metadata": {},
   "outputs": [
    {
     "name": "stdout",
     "output_type": "stream",
     "text": [
      "With 90% confidence, the daily loss will not exceed 0.87% of the portfolio.\n",
      "With 95% confidence, the daily loss will not exceed 1.2% of the portfolio.\n",
      "With 99% confidence, the daily loss will not exceed 2.28% of the portfolio.\n"
     ]
    }
   ],
   "source": [
    "#Historical VaR\n",
    "var_90_hist = daily_port_return.quantile(0.10, interpolation = 'lower')\n",
    "var_95_hist = daily_port_return.quantile(0.05, interpolation = 'lower')\n",
    "var_99_hist = daily_port_return.quantile(0.01, interpolation = 'lower')\n",
    "\n",
    "print(f\"With 90% confidence, the daily loss will not exceed {round(-var_90_hist*100,2)}% of the portfolio.\")\n",
    "print(f\"With 95% confidence, the daily loss will not exceed {round(-var_95_hist*100,2)}% of the portfolio.\")\n",
    "print(f\"With 99% confidence, the daily loss will not exceed {round(-var_99_hist*100,2)}% of the portfolio.\")"
   ]
  },
  {
   "cell_type": "code",
   "execution_count": 21,
   "id": "507844c2-fa86-417b-bcce-bc6279d6ed5c",
   "metadata": {},
   "outputs": [],
   "source": [
    "### In the end make the below histrogran for Parametric and monte carlo and paste screenshot in github"
   ]
  },
  {
   "cell_type": "markdown",
   "id": "df894c4f-940c-4674-b4c2-f9f5ceca3884",
   "metadata": {},
   "source": [
    "#### Computing VaR using Monte-Carlo simulations"
   ]
  },
  {
   "cell_type": "code",
   "execution_count": 22,
   "id": "6ecd93e9-aa9d-4f5f-9c57-f24bf3d09337",
   "metadata": {},
   "outputs": [],
   "source": [
    "# Formula for simulating stock prices\n",
    "# S_t_i = S_0_i*exp((mu_i - 0.5*sigma_i**2)*t + sigma_i*W_t) for the ith stock\n",
    "# mu_i = mean return of the ith stock \n",
    "# Returns(using log) for each stock is already calculated and stored in the variable: returns. Shape is 265 rows and 10 columns\n",
    "# So mu_i should be returns.mean() \n",
    "# mu = returns.mean()\n",
    "# sigma_i = standard deviation of the ith stock\n",
    "# sigma = returns.std()"
   ]
  },
  {
   "cell_type": "code",
   "execution_count": 23,
   "id": "c5e36328-16d3-4114-86d4-4850fadb9530",
   "metadata": {},
   "outputs": [
    {
     "data": {
      "text/plain": [
       "(10000, 10)"
      ]
     },
     "execution_count": 23,
     "metadata": {},
     "output_type": "execute_result"
    }
   ],
   "source": [
    "#Generating uncorrelated random prices\n",
    "np.random.seed(42)\n",
    "simulations = 10_000\n",
    "Z_uncorr = np.random.normal(0,1,size=(simulations,returns.shape[1]))\n",
    "#Z_uncorr = np.random.standard_t(5,size=(simulations,returns.shape[1]))\n",
    "Z_uncorr.shape"
   ]
  },
  {
   "cell_type": "code",
   "execution_count": 24,
   "id": "ba18e1d0-258e-4a45-ada8-5175a6520e6a",
   "metadata": {},
   "outputs": [
    {
     "data": {
      "text/plain": [
       "(10, 10)"
      ]
     },
     "execution_count": 24,
     "metadata": {},
     "output_type": "execute_result"
    }
   ],
   "source": [
    "#Computing the Cholesky factor\n",
    "L = np.linalg.cholesky(cov_matrix) #Cholesky factor\n",
    "L.shape"
   ]
  },
  {
   "cell_type": "code",
   "execution_count": 25,
   "id": "31013289-e371-4043-b3c8-dae5fa84149b",
   "metadata": {},
   "outputs": [],
   "source": [
    "#Using Cholesky decomposition to generate correlated prices\n",
    "Z_corr = Z_uncorr@L.T"
   ]
  },
  {
   "cell_type": "code",
   "execution_count": 26,
   "id": "a7c9145a-c981-4cab-bc10-bf06ea6c56ce",
   "metadata": {},
   "outputs": [],
   "source": [
    "#calculating daily mean returns(mu) for each stock\n",
    "mu = returns.mean().values"
   ]
  },
  {
   "cell_type": "code",
   "execution_count": 27,
   "id": "6da9b5eb-d4d0-4d05-871c-1b3a8df5a4f3",
   "metadata": {},
   "outputs": [],
   "source": [
    "#calculating daily standard deviation(sigma) for each stock\n",
    "sigma = returns.std().values"
   ]
  },
  {
   "cell_type": "code",
   "execution_count": 28,
   "id": "aed70b27-f016-418c-a539-be93c8dd75ca",
   "metadata": {},
   "outputs": [
    {
     "data": {
      "text/plain": [
       "(10,)"
      ]
     },
     "execution_count": 28,
     "metadata": {},
     "output_type": "execute_result"
    }
   ],
   "source": [
    "#Initial stock prices are prices of the last day in the dataset\n",
    "S_0 = df.drop(columns='Date').iloc[-1].values\n",
    "S_0.shape"
   ]
  },
  {
   "cell_type": "code",
   "execution_count": 29,
   "id": "bf71e2ca-6bfd-4926-9e60-c012cd8d6943",
   "metadata": {},
   "outputs": [
    {
     "name": "stdout",
     "output_type": "stream",
     "text": [
      "(10000, 10)\n"
     ]
    },
    {
     "data": {
      "text/plain": [
       "array([[1840.06703075, 1909.93427708, 2343.97739813, ..., 1423.8155923 ,\n",
       "         804.88730324, 3501.36431558],\n",
       "       [1813.77406652, 1896.65262825, 2327.10223412, ..., 1384.85704364,\n",
       "         770.48514953, 3368.64088875],\n",
       "       [1866.9874814 , 1913.10042811, 2331.85854677, ..., 1408.50746865,\n",
       "         789.3163958 , 3465.04820037],\n",
       "       ...,\n",
       "       [1826.44828935, 1885.00033224, 2331.47455488, ..., 1401.65744983,\n",
       "         782.5764418 , 3513.34302157],\n",
       "       [1852.00609219, 1893.9339806 , 2311.6963248 , ..., 1379.00876588,\n",
       "         806.22487474, 3490.23277312],\n",
       "       [1844.13163467, 1934.62959974, 2317.8639829 , ..., 1416.059466  ,\n",
       "         804.80729138, 3524.8571155 ]])"
      ]
     },
     "execution_count": 29,
     "metadata": {},
     "output_type": "execute_result"
    }
   ],
   "source": [
    "#Simulating 10_000 prices for each stock\n",
    "#S_T = S_0 * np.exp((mu - 0.5 * sigma**2) * T + sigma * np.sqrt(T) * Z)\n",
    "#But here I have used the covaraince matrix itself for generating correlated Z-vlaues, so not required to scale with sigma again.\n",
    "T = 1 #1 day (because mu, sigma are daily)\n",
    "S_T = S_0*np.exp((mu - 0.5*sigma**2)*T + np.sqrt(T)*Z_corr)\n",
    "print(S_T.shape)\n",
    "S_T"
   ]
  },
  {
   "cell_type": "code",
   "execution_count": 30,
   "id": "e6e3fff9-1caf-487b-b6fc-94879083bf8e",
   "metadata": {},
   "outputs": [
    {
     "data": {
      "text/plain": [
       "(10000, 10)"
      ]
     },
     "execution_count": 30,
     "metadata": {},
     "output_type": "execute_result"
    }
   ],
   "source": [
    "#Computing returns from the simulated prices\n",
    "sim_returns = np.log(S_T/S_0)\n",
    "sim_returns.shape"
   ]
  },
  {
   "cell_type": "markdown",
   "id": "685bdca9-ff35-4652-92b7-3e90baa0ab06",
   "metadata": {},
   "source": [
    "Note: Simulated returns are not supposed to be over time we are just simulating 10_000 different scenarios for the next day"
   ]
  },
  {
   "cell_type": "code",
   "execution_count": 31,
   "id": "0878509e-1b0c-476b-9fa2-d80b4b6091c9",
   "metadata": {},
   "outputs": [
    {
     "name": "stdout",
     "output_type": "stream",
     "text": [
      "(10000,)\n",
      "[ 0.01098743 -0.01716481  0.00084878 ... -0.00378386  0.0048673\n",
      "  0.00949376]\n"
     ]
    }
   ],
   "source": [
    "#Calculating daily Portfolio returns\n",
    "sim_daily_port_returns = sim_returns@weights\n",
    "print(sim_daily_port_returns.shape)\n",
    "print(sim_daily_port_returns)"
   ]
  },
  {
   "cell_type": "code",
   "execution_count": 32,
   "id": "1d801bf6-33d6-4fed-93a0-fcdeff0ba5a7",
   "metadata": {},
   "outputs": [
    {
     "name": "stdout",
     "output_type": "stream",
     "text": [
      "With 90% confidence, the daily loss will not exceed 1.09% of the portfolio.\n",
      "With 95% confidence, the daily loss will not exceed 1.42% of the portfolio.\n",
      "With 99% confidence, the daily loss will not exceed 1.98% of the portfolio.\n"
     ]
    }
   ],
   "source": [
    "#Monte-Carlo VaR\n",
    "var_90_mc = np.percentile(sim_daily_port_returns, 10, method = 'lower')\n",
    "var_95_mc = np.percentile(sim_daily_port_returns, 5, method = 'lower')\n",
    "var_99_mc = np.percentile(sim_daily_port_returns, 1, method = 'lower')\n",
    "\n",
    "print(f\"With 90% confidence, the daily loss will not exceed {round(-var_90_mc*100,2)}% of the portfolio.\")\n",
    "print(f\"With 95% confidence, the daily loss will not exceed {round(-var_95_mc*100,2)}% of the portfolio.\")\n",
    "print(f\"With 99% confidence, the daily loss will not exceed {round(-var_99_mc*100,2)}% of the portfolio.\")"
   ]
  },
  {
   "cell_type": "markdown",
   "id": "5ffe2e2d-d198-4116-9104-6eedcc88053b",
   "metadata": {},
   "source": [
    "#### Plotting the VaRs calculated using the 3 different methods"
   ]
  },
  {
   "cell_type": "code",
   "execution_count": 38,
   "id": "25403dde-9470-4759-b7fe-548d12793dfd",
   "metadata": {},
   "outputs": [
    {
     "data": {
      "image/png": "[encoded data removed]",
      "text/plain": [
       "<Figure size 500x400 with 1 Axes>"
      ]
     },
     "metadata": {},
     "output_type": "display_data"
    }
   ],
   "source": [
    "var_lines = {\n",
    "    'VaR 90%': var_90_param * 100,\n",
    "    'VaR 95%': var_95_param * 100,\n",
    "    'VaR 99%': var_99_param * 100\n",
    "}\n",
    "colors = {\n",
    "    'VaR 90%': 'orange',\n",
    "    'VaR 95%': 'red',\n",
    "    'VaR 99%': 'purple',\n",
    "}\n",
    "\n",
    "plt.figure(figsize=(5, 4))\n",
    "plt.xlabel(\"Daily Portfolio Return\")\n",
    "plt.ylabel(\"Frequency\")\n",
    "percent_formatter = FuncFormatter(lambda x, _: f'{x:.0f}%')\n",
    "sns.histplot(daily_port_return * 100, kde=True, color='skyblue')\n",
    "plt.gca().xaxis.set_major_formatter(percent_formatter)\n",
    "\n",
    "# Add vertical lines for each VaR level\n",
    "for label, value in var_lines.items():\n",
    "    plt.axvline(x=value, color=colors[label], linestyle='--', linewidth=1.5, label=f\"{label}: {value:.2f}%\")\n",
    "\n",
    "plt.legend()\n",
    "plt.title(\"Parametric VaR\")\n",
    "plt.tight_layout()\n",
    "plt.show()"
   ]
  },
  {
   "cell_type": "code",
   "execution_count": 39,
   "id": "6f9c52de-ebfa-4530-a813-193861bdcc72",
   "metadata": {},
   "outputs": [
    {
     "data": {
      "image/png": "[encoded data removed]",
      "text/plain": [
       "<Figure size 500x400 with 1 Axes>"
      ]
     },
     "metadata": {},
     "output_type": "display_data"
    }
   ],
   "source": [
    "var_lines = {\n",
    "    'VaR 90%': var_90_hist * 100,\n",
    "    'VaR 95%': var_95_hist * 100,\n",
    "    'VaR 99%': var_99_hist * 100\n",
    "}\n",
    "colors = {\n",
    "    'VaR 90%': 'orange',\n",
    "    'VaR 95%': 'red',\n",
    "    'VaR 99%': 'purple',\n",
    "}\n",
    "\n",
    "plt.figure(figsize=(5, 4))\n",
    "plt.xlabel(\"Daily Portfolio Return\")\n",
    "plt.ylabel(\"Frequency\")\n",
    "percent_formatter = FuncFormatter(lambda x, _: f'{x:.0f}%')\n",
    "sns.histplot(daily_port_return * 100, kde=True, color='skyblue')\n",
    "plt.gca().xaxis.set_major_formatter(percent_formatter)\n",
    "\n",
    "# Add vertical lines for each VaR level\n",
    "for label, value in var_lines.items():\n",
    "    plt.axvline(x=value, color=colors[label], linestyle='--', linewidth=1.5, label=f\"{label}: {value:.2f}%\")\n",
    "\n",
    "plt.legend()\n",
    "plt.title(\"Historical VaR\")\n",
    "plt.tight_layout()\n",
    "plt.show()"
   ]
  },
  {
   "cell_type": "code",
   "execution_count": 40,
   "id": "845a3faa-3c57-4977-8054-3b87b434dde3",
   "metadata": {},
   "outputs": [
    {
     "data": {
      "image/png": "[encoded data removed]",
      "text/plain": [
       "<Figure size 500x400 with 1 Axes>"
      ]
     },
     "metadata": {},
     "output_type": "display_data"
    }
   ],
   "source": [
    "var_lines = {\n",
    "    'VaR 90%': (var_90_mc) * 100,\n",
    "    'VaR 95%': (var_95_mc) * 100,\n",
    "    'VaR 99%': (var_99_mc) * 100\n",
    "}\n",
    "colors = {\n",
    "    'VaR 90%': 'orange',\n",
    "    'VaR 95%': 'red',\n",
    "    'VaR 99%': 'purple',\n",
    "}\n",
    "\n",
    "plt.figure(figsize=(5, 4))\n",
    "plt.xlabel(\"Daily Portfolio Return\")\n",
    "plt.ylabel(\"Frequency\")\n",
    "percent_formatter = FuncFormatter(lambda x, _: f'{x:.0f}%')\n",
    "sns.histplot(daily_port_return * 100, kde=True, color='skyblue')\n",
    "plt.gca().xaxis.set_major_formatter(percent_formatter)\n",
    "\n",
    "# Add vertical lines for each VaR level\n",
    "for label, value in var_lines.items():\n",
    "    plt.axvline(x=value, color=colors[label], linestyle='--', linewidth=1.5, label=f\"{label}: {value:.2f}%\")\n",
    "\n",
    "plt.legend()\n",
    "plt.title(\"Monte-Carlo VaR\")\n",
    "plt.tight_layout()\n",
    "plt.show()"
   ]
  },
  {
   "cell_type": "markdown",
   "id": "0cd6dcc6-169b-47c0-80fa-06b13f5490a4",
   "metadata": {},
   "source": [
    "### BackTesting"
   ]
  },
  {
   "cell_type": "code",
   "execution_count": 41,
   "id": "12ccaa61-dc54-4778-a20e-36272f45c960",
   "metadata": {},
   "outputs": [],
   "source": [
    "#Historical VaR at 99% has the highest absolute threshold(-2.28%), so testing only on it"
   ]
  },
  {
   "cell_type": "markdown",
   "id": "8c42171e-81f4-40af-870e-3b35fba1f7a7",
   "metadata": {},
   "source": [
    "#### Traffic Light Approach"
   ]
  },
  {
   "cell_type": "code",
   "execution_count": 42,
   "id": "12591e80-ecc0-4646-bb53-ce17551e381e",
   "metadata": {},
   "outputs": [],
   "source": [
    "Breaches = daily_port_return < var_99_hist"
   ]
  },
  {
   "cell_type": "code",
   "execution_count": 43,
   "id": "1d2d7e52-1a7c-457d-aca7-88e0f661ab73",
   "metadata": {},
   "outputs": [
    {
     "name": "stdout",
     "output_type": "stream",
     "text": [
      "2\n"
     ]
    }
   ],
   "source": [
    "print(Breaches.sum())"
   ]
  },
  {
   "cell_type": "markdown",
   "id": "0c2ee340-c0b0-4243-9695-a2fd8b64f391",
   "metadata": {},
   "source": [
    "Since, the number of breaches is less than 4, we are in the Green zone, and our model is good to be used."
   ]
  },
  {
   "cell_type": "markdown",
   "id": "857097b2-ce59-4ff6-82c5-dc4b8907fade",
   "metadata": {},
   "source": [
    "#### Kupiec's Proportion of Failure Test"
   ]
  },
  {
   "cell_type": "code",
   "execution_count": 44,
   "id": "decd0cdf-1b17-4d34-9b99-04672c87bfd8",
   "metadata": {},
   "outputs": [],
   "source": [
    "p = 1 - 0.99 #expected probability of breach\n",
    "x = Breaches.sum() #Number of brecahes\n",
    "n = len(daily_port_return) #Number of observations\n",
    "p_hat = x/n #observed probability of breach"
   ]
  },
  {
   "cell_type": "code",
   "execution_count": 45,
   "id": "1d62646e-0b35-4409-ad32-258573b5098f",
   "metadata": {},
   "outputs": [],
   "source": [
    "LR = -2*np.log(((p**x)*((1-p)**(n-x)))/((p_hat**x)*((1-p_hat)**(n-x))))"
   ]
  },
  {
   "cell_type": "code",
   "execution_count": 46,
   "id": "f9d2b35d-e4c4-424a-9990-7f8c38bcb400",
   "metadata": {},
   "outputs": [
    {
     "name": "stdout",
     "output_type": "stream",
     "text": [
      "0.6748690197554494\n"
     ]
    }
   ],
   "source": [
    "p_value = 1 - chi2.cdf(LR, df=1)\n",
    "print(p_value)"
   ]
  },
  {
   "cell_type": "markdown",
   "id": "0aeda46d-de86-479f-9332-8cac388f9bb2",
   "metadata": {},
   "source": [
    "Since, our p-value is significantly greater than our level of significance(0.01) we fail to reject our Null Hypothesis(number of breaches is plausible under the expected rate). So our model is consistent with our expected Breach probability."
   ]
  },
  {
   "cell_type": "markdown",
   "id": "051b5580-2b53-435a-a4e8-27dccc7ebb6a",
   "metadata": {},
   "source": [
    "### Expected Shortfall"
   ]
  },
  {
   "cell_type": "code",
   "execution_count": 47,
   "id": "5a847da7-bde7-4863-8e84-ca01fb67154d",
   "metadata": {},
   "outputs": [],
   "source": [
    "tail = daily_port_return[daily_port_return <= var_99_hist]"
   ]
  },
  {
   "cell_type": "code",
   "execution_count": 48,
   "id": "8bb2aec5-ad25-4fc5-834b-61fd30d2d067",
   "metadata": {},
   "outputs": [
    {
     "name": "stdout",
     "output_type": "stream",
     "text": [
      "Expected Shortfall is approximately -3.14%\n"
     ]
    }
   ],
   "source": [
    "ES = tail.mean()\n",
    "print(f\"Expected Shortfall is approximately {round(ES*100,2)}%\")"
   ]
  },
  {
   "cell_type": "markdown",
   "id": "835c9312-45b1-4013-a887-322551cb006f",
   "metadata": {},
   "source": [
    "If losses exceed the 99% Value at Risk, the average loss in those worst 1% of days is expected to be about 3.14% of the portfolio value."
   ]
  },
  {
   "cell_type": "markdown",
   "id": "df98649b-f00c-46dc-b982-bb38e95f209b",
   "metadata": {},
   "source": [
    "#### END OF THIS PROJECT"
   ]
  }
 ],
 "metadata": {
  "kernelspec": {
   "display_name": "Python [conda env:base] *",
   "language": "python",
   "name": "conda-base-py"
  },
  "language_info": {
   "codemirror_mode": {
    "name": "ipython",
    "version": 3
   },
   "file_extension": ".py",
   "mimetype": "text/x-python",
   "name": "python",
   "nbconvert_exporter": "python",
   "pygments_lexer": "ipython3",
   "version": "3.13.5"
  }
 },
 "nbformat": 4,
 "nbformat_minor": 5
}
